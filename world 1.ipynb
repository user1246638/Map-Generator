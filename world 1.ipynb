{
 "cells": [
  {
   "cell_type": "code",
   "execution_count": null,
   "metadata": {
    "collapsed": false,
    "deletable": true,
    "editable": true
   },
   "outputs": [],
   "source": [
    "from structure import structure\n",
    "import numpy as np\n",
    "import matplotlib.pyplot as plt\n",
    "from geometry import Point\n",
    "from pprint import pprint\n",
    "from mpl_toolkits.mplot3d import Axes3D"
   ]
  },
  {
   "cell_type": "code",
   "execution_count": null,
   "metadata": {
    "collapsed": true,
    "deletable": true,
    "editable": true
   },
   "outputs": [],
   "source": [
    "r = 10\n",
    "def area(x):\n",
    "    return np.sqrt(x[0]**2+x[1]**2) <r\n",
    "n_nodes = 50\n",
    "h_sigma = 1\n",
    "sigma = 1,\n",
    "xlim=[-1,1]\n",
    "ylim=[-1,1]\n",
    "n_sec_max = 100\n",
    "multiplier=10\n",
    "dont_print = True\n",
    "depth_limit = 3"
   ]
  },
  {
   "cell_type": "code",
   "execution_count": null,
   "metadata": {
    "collapsed": false,
    "deletable": true,
    "editable": true
   },
   "outputs": [],
   "source": [
    "s = structure(n_nodes, area, h_sigma = h_sigma, \n",
    "              sigma = sigma,\n",
    "              xlim=xlim, ylim=ylim,  \n",
    "              n_sec_max = n_sec_max, multiplier=multiplier, \n",
    "              dont_print = dont_print,\n",
    "              depth_limit = 3)\n"
   ]
  },
  {
   "cell_type": "code",
   "execution_count": null,
   "metadata": {
    "collapsed": false,
    "deletable": true,
    "editable": true
   },
   "outputs": [],
   "source": [
    "s.make_points()"
   ]
  },
  {
   "cell_type": "code",
   "execution_count": null,
   "metadata": {
    "collapsed": false,
    "deletable": true,
    "editable": true
   },
   "outputs": [],
   "source": [
    "s.make_graph()"
   ]
  },
  {
   "cell_type": "code",
   "execution_count": null,
   "metadata": {
    "collapsed": false,
    "deletable": true,
    "editable": true
   },
   "outputs": [],
   "source": [
    "\n",
    "s.draw_graph()"
   ]
  },
  {
   "cell_type": "code",
   "execution_count": null,
   "metadata": {
    "collapsed": true,
    "deletable": true,
    "editable": true
   },
   "outputs": [],
   "source": [
    "def coord_from_ij(i,j,h,w):\n",
    "    x = xlim[0]+j*1.0/w*(xlim[1]-xlim[0])\n",
    "    y = ylim[0]+i*1.0/h*(ylim[1]-ylim[0])\n",
    "    return x,y\n",
    "def draw_map_h(s,h,w):\n",
    "    mapa = np.zeros([h,w])\n",
    "    \n",
    "    for i in range(h):\n",
    "        for j in range(w):\n",
    "            x,y = coord_from_ij(i,j, h, w)\n",
    "            mapa[i,j] = s.h[s.find_closest_inside_graph_fast(n_nodes+1, Point(x,y))]\n",
    "    plt.imshow(mapa, cmap=\"terrain\", origin = \"lower\", vmin = -h_sigma, vmax = 6*h_sigma)\n",
    "    plt.show()\n",
    "def draw_map_wl(s,h,w):\n",
    "    mapa = np.zeros([h,w])\n",
    "    \n",
    "    for i in range(h):\n",
    "        for j in range(w):\n",
    "            x,y = coord_from_ij(i,j, h, w)\n",
    "            mapa[i,j] = s.wl[s.find_closest_inside_graph_fast(n_nodes+1, Point(x,y))]\n",
    "    plt.imshow(mapa, cmap=\"terrain\", origin = \"lower\", vmin = -h_sigma, vmax = 6*h_sigma)\n",
    "    plt.show()\n",
    "def draw_map(s,h,w):\n",
    "    mapa = np.zeros([h,w])\n",
    "    \n",
    "    for i in range(h):\n",
    "        for j in range(w):\n",
    "            x,y = coord_from_ij(i,j, h, w)\n",
    "            mapa[i,j] = s.h[s.find_closest_inside_graph_fast(n_nodes+1, Point(x,y))]\n",
    "    plt.imshow(mapa, cmap=\"terrain\", origin = \"lower\", vmin = -h_sigma, vmax = 6*h_sigma)\n",
    "    plt.show()"
   ]
  },
  {
   "cell_type": "code",
   "execution_count": null,
   "metadata": {
    "collapsed": true,
    "deletable": true,
    "editable": true
   },
   "outputs": [],
   "source": [
    "h=50\n",
    "w=50"
   ]
  },
  {
   "cell_type": "code",
   "execution_count": null,
   "metadata": {
    "collapsed": false,
    "deletable": true,
    "editable": true
   },
   "outputs": [],
   "source": [
    "%%timeit -r 1 -n 1\n",
    "draw_map_h(s, h,w)"
   ]
  },
  {
   "cell_type": "code",
   "execution_count": null,
   "metadata": {
    "collapsed": true,
    "deletable": true,
    "editable": true
   },
   "outputs": [],
   "source": [
    "def check_wl_h(s,i):\n",
    "    if s.h[i]>s.wl[i]:\n",
    "        s.wl[i]=s.h[i]\n",
    "\n",
    "def grow(s,n):\n",
    "    for junk in range(n):\n",
    "        r = np.random.choice(len(s.h))\n",
    "        s.h[r]+=s.h_sigma\n",
    "        check_wl_h(s,r)\n",
    "        for cn in s.G.neighbors(r):\n",
    "            s.h[cn]+=s.h_sigma*0.5\n",
    "            check_wl_h(s,cn)\n",
    "            \n",
    "def set_sea(s):\n",
    "    for i in s.boundary_nodes:\n",
    "        s.h[i]=-s.h_sigma\n",
    "        s.wl[i]=0"
   ]
  },
  {
   "cell_type": "code",
   "execution_count": null,
   "metadata": {
    "collapsed": false,
    "deletable": true,
    "editable": true
   },
   "outputs": [],
   "source": [
    "grow(s,10)"
   ]
  },
  {
   "cell_type": "code",
   "execution_count": null,
   "metadata": {
    "collapsed": false,
    "deletable": true,
    "editable": true
   },
   "outputs": [],
   "source": [
    "s.wl == s.h"
   ]
  },
  {
   "cell_type": "code",
   "execution_count": null,
   "metadata": {
    "collapsed": false,
    "deletable": true,
    "editable": true
   },
   "outputs": [],
   "source": [
    "draw_map_h(s,h,w)"
   ]
  },
  {
   "cell_type": "code",
   "execution_count": null,
   "metadata": {
    "collapsed": true,
    "deletable": true,
    "editable": true
   },
   "outputs": [],
   "source": [
    "set_sea(s)"
   ]
  },
  {
   "cell_type": "code",
   "execution_count": null,
   "metadata": {
    "collapsed": false,
    "deletable": true,
    "editable": true
   },
   "outputs": [],
   "source": [
    "draw_map_h(s,h,w)"
   ]
  },
  {
   "cell_type": "code",
   "execution_count": null,
   "metadata": {
    "collapsed": false,
    "deletable": true,
    "editable": true
   },
   "outputs": [],
   "source": [
    "grow(s,30)\n",
    "set_sea(s)\n",
    "draw_map_h(s,h,w)"
   ]
  },
  {
   "cell_type": "code",
   "execution_count": null,
   "metadata": {
    "collapsed": false,
    "deletable": true,
    "editable": true
   },
   "outputs": [],
   "source": [
    "s.wl == s.h"
   ]
  },
  {
   "cell_type": "code",
   "execution_count": null,
   "metadata": {
    "collapsed": false,
    "deletable": true,
    "editable": true
   },
   "outputs": [],
   "source": [
    "def fill_hole(s, i):\n",
    "    if i not in s.boundary_nodes:\n",
    "        hole = set([i])\n",
    "        hole_exit = None\n",
    "        not_all = True\n",
    "        \n",
    "        while not_all:\n",
    "            hole_edge = set()\n",
    "            for j in hole:\n",
    "                hole_edge= hole_edge.union(set(s.G.neighbors[j]))\n",
    "            hole_edge.difference_update(hole)\n",
    "            \n",
    "            new_minwl = min([[j, s.wl[j]] for j in hole_edge], key = lambda x: x[1])\n",
    "            \n",
    "            if new_minwl[1]< minwl[1]:\n",
    "                not_all = False\n",
    "                hole_exit = new_minwl[0]\n",
    "            else:\n",
    "                minwl = new_minwl\n",
    "                for j in hole:\n",
    "                    s.wl[j] = minwl[1]\n",
    "                hole.add(minwl[0])\n",
    "        ->hole_exit\n",
    "        ->hole\n",
    "        \n",
    "def wash_away(s):\n",
    "    for i in s.G.nodes():\n",
    "        if hole(i):\n",
    "            \n",
    "        "
   ]
  },
  {
   "cell_type": "code",
   "execution_count": null,
   "metadata": {
    "collapsed": true,
    "deletable": true,
    "editable": true
   },
   "outputs": [],
   "source": [
    "a= set()\n"
   ]
  },
  {
   "cell_type": "code",
   "execution_count": null,
   "metadata": {
    "collapsed": true,
    "deletable": true,
    "editable": true
   },
   "outputs": [],
   "source": [
    "a.difference_update()"
   ]
  },
  {
   "cell_type": "code",
   "execution_count": null,
   "metadata": {
    "collapsed": false,
    "deletable": true,
    "editable": true
   },
   "outputs": [],
   "source": [
    "\"\"\"\n",
    "s = structure(1000,area,sigma = 1)\n",
    "s.make_points()\n",
    "\n",
    "\"\"\"\n",
    "\n",
    "\"\"\"t = time.time()\n",
    "s.make_graph()\n",
    "print(time.time()-t)\"\"\"\n",
    "\n",
    "import pickle\n",
    "import networkx as nx\n",
    "\n",
    "nx.write_adjlist(s.G, \"graph.adjlist\")\n",
    "\n",
    "with open(\"points.list\", \"wb\") as f:\n",
    "    pickle.dump(s.p, f)\n",
    "\n",
    "#G = nx.read_adjlist(\"graph.adjlist\")\n",
    "\n",
    "#print(len(list(G.nodes())))\n",
    "\n",
    "print(len(list(s.G.nodes())))\n",
    "print(len(s.p))\n"
   ]
  },
  {
   "cell_type": "code",
   "execution_count": 1,
   "metadata": {
    "collapsed": false,
    "deletable": true,
    "editable": true
   },
   "outputs": [],
   "source": [
    "from structure import structure\n",
    "import numpy as np\n",
    "import matplotlib.pyplot as plt\n",
    "from geometry import Point\n",
    "from pprint import pprint\n",
    "from mpl_toolkits.mplot3d import Axes3D\n",
    "import time\n",
    "from copy import deepcopy\n",
    "import pickle\n",
    "import networkx as nx\n",
    "from matplotlib import cm"
   ]
  },
  {
   "cell_type": "code",
   "execution_count": 2,
   "metadata": {
    "collapsed": false,
    "deletable": true,
    "editable": true
   },
   "outputs": [],
   "source": [
    "class map_generator(structure):\n",
    "    def __init__(self, n_nodes, area, \n",
    "                 h_sigma, sigma = 1,\n",
    "                 h_picture=50,w_picture=50,\n",
    "                 xlim=[-1,1], ylim=[-1,1],\n",
    "                 n_sec_max = 100, multiplier=10, \n",
    "                 dont_print = True,\n",
    "                 depth_limit = 3, \n",
    "                 from_file = False,\n",
    "                 files = [\"points.list\", \"graph.adjlist\"]):\n",
    "        structure.__init__(self,n_nodes, area, \n",
    "                           sigma = sigma,\n",
    "                           xlim=xlim, ylim=ylim,  \n",
    "                           n_sec_max = n_sec_max, multiplier=multiplier, \n",
    "                           dont_print = dont_print,\n",
    "                           depth_limit = 3)\n",
    "        if from_file:\n",
    "            with open(files[0], \"rb\") as f:\n",
    "                self.p = pickle.load(f)\n",
    "            self.G = nx.read_adjlist(files[1])\n",
    "            self.G = nx.relabel_nodes(self.G,mapping=lambda n:int(n), copy = False)\n",
    "            self.n_nodes = len(self.p)\n",
    "            self.boundary_check2(list(self.G.nodes()))\n",
    "            self.quadruple_structure()\n",
    "            print(self.n_nodes)\n",
    "            self.rescale(xlim, ylim, [-1,1])\n",
    "        else:\n",
    "            self.make_points()\n",
    "            print(\"Made points.\")\n",
    "            self.make_graph()\n",
    "            print(\"Made graph.\")\n",
    "        self.h_pic = h_picture\n",
    "        self.w_pic = w_picture\n",
    "        \n",
    "        self.h_sigma= h_sigma\n",
    "        \n",
    "        self.h = [0 for i in self.G.nodes()]\n",
    "        self.wl = [0 for i in self.G.nodes()]\n",
    "        self.flux = [0 for i in self.G.nodes()]\n",
    "        self.lakes = []\n",
    "\n",
    "    def elevation_picture(self):\n",
    "        mapa = np.zeros([self.h_pic,self.w_pic])\n",
    "\n",
    "        for i in range(self.h_pic):\n",
    "            for j in range(self.w_pic):\n",
    "                x,y = self.coord_from_ij(i,j)\n",
    "                mapa[i,j] = self.h[self.find_closest_inside_graph_fast(n_nodes+1, Point(x,y))]\n",
    "        return mapa\n",
    "    def water_level_picture(self):\n",
    "        mapa = np.zeros([self.h_pic,self.w_pic])\n",
    "\n",
    "        for i in range(self.h_pic):\n",
    "            for j in range(self.w_pic):\n",
    "                x,y = self.coord_from_ij(i,j)\n",
    "                mapa[i,j] = self.wl[self.find_closest_inside_graph_fast(n_nodes+1, Point(x,y))]\n",
    "        return mapa\n",
    "    \n",
    "    def coord_from_ij(self,i,j):\n",
    "        x = self.xlim[0]+j*1.0/self.w_pic*(self.xlim[1]-self.xlim[0])\n",
    "        y = self.ylim[0]+i*1.0/self.h_pic*(self.ylim[1]-self.ylim[0])\n",
    "        return x,y\n",
    "    \n",
    "    def draw_map_h(self, ax = None):\n",
    "        mapa = self.elevation_picture()\n",
    "        if ax is None:\n",
    "            plt.imshow(mapa, cmap=\"terrain\", origin = \"lower\", vmin = -self.h_sigma, vmax = 6*self.h_sigma)\n",
    "        else:\n",
    "            ax.imshow(mapa, cmap=\"terrain\", origin = \"lower\", vmin = -self.h_sigma, vmax = 6*self.h_sigma)\n",
    "\n",
    "    def draw_map_wl(self, ax = 0):\n",
    "        mapa = self.water_level_picture()\n",
    "        if ax == 0:\n",
    "            plt.imshow(mapa, cmap=\"terrain\", origin = \"lower\", vmin = -self.h_sigma, vmax = 6*self.h_sigma)\n",
    "        else:\n",
    "            ax.imshow(mapa, cmap=\"terrain\", origin = \"lower\", vmin = -self.h_sigma, vmax = 6*self.h_sigma)\n",
    "        \n",
    "    def draw_model(self, ax = None, **kwargs):\n",
    "        if ax is None:\n",
    "            fig = plt.figure()\n",
    "            ax = fig.add_subplot(111, projection='3d')\n",
    "            X = np.arange(self.xlim[0], self.xlim[1], self.w_pic)\n",
    "            Y = np.arange(self.ylim[0], self.ylim[1], self.h_pic)\n",
    "            X, Y = np.meshgrid(X, Y)\n",
    "            Z = self.elevation_picture()\n",
    "            print(X.shape, Y.shape, Z.shape)\n",
    "            ax.plot_surface(X, Y, Z, **kwargs)\n",
    "            plt.show()\n",
    "        else:\n",
    "            X = np.linspace(self.xlim[0], self.xlim[1], self.w_pic)\n",
    "            Y = np.linspace(self.ylim[0], self.ylim[1], self.h_pic)\n",
    "            X, Y = np.meshgrid(X, Y)\n",
    "            Z = self.elevation_picture()\n",
    "            print(X.shape, Y.shape, Z.shape)\n",
    "            ax.plot_surface(X, Y, Z, **kwargs)\n",
    "    \n",
    "    def draw_model_triangles(self, ax = None, h=False,**kwargs):\n",
    "        if ax is None:\n",
    "            fig = plt.figure()\n",
    "            ax = fig.add_subplot(111, projection='3d')\n",
    "            X = [p.x for p in self.p]\n",
    "            Y = [p.y for p in self.p]\n",
    "            if h: Z = self.h\n",
    "            else: Z = self.wl\n",
    "            ax.plot_trisurf(X, Y, Z, **kwargs)\n",
    "            plt.show()\n",
    "        else:\n",
    "            X = [p.x for p in self.p]\n",
    "            Y = [p.y for p in self.p]\n",
    "            if h: Z = self.h\n",
    "            else: Z = self.wl\n",
    "            ax.plot_trisurf(X, Y, Z, **kwargs)\n",
    "            \n",
    "            \n",
    "    def check_wl_h(self,i):\n",
    "        if self.h[i]>self.wl[i]:\n",
    "            self.wl[i]=self.h[i]\n",
    "            \n",
    "    def randomize(self):\n",
    "        self.h = list(np.random.normal(self.h_sigma, size=self.n_nodes))\n",
    "        self.wl= deepcopy(self.h)\n",
    "    def grow(self,n):        \n",
    "        for r in np.random.choice(len(self.h), size = [n]):\n",
    "            self.h[r]+=self.h_sigma\n",
    "            self.check_wl_h(r)\n",
    "            for cn in self.G.neighbors(r):\n",
    "                self.h[cn]+=self.h_sigma*0.5\n",
    "                self.check_wl_h(cn)\n",
    "\n",
    "    def set_sea(self, bottom, water_level = 0):\n",
    "        for i in self.boundary_nodes:\n",
    "            self.h[i]=-self.h_sigma\n",
    "            self.wl[i]=0\n",
    "            \n",
    "    def lake_influx(self,l):\n",
    "        #sum influx from the boundary\n",
    "        #add number of points of the lake to it.\n",
    "        influx = 0\n",
    "        for node in self.lakes[l][\"points\"]:\n",
    "            influx+=self.flux[node]\n",
    "            self.flux[node] = 1\n",
    "            self.flux_direction[node] = -1\n",
    "        return influx\n",
    "    \n",
    "    def ordering_wl(self,item):\n",
    "        if item[0]==\"lake\":\n",
    "            return self.lakes[item[1]][\"water_level\"]\n",
    "        elif item[0] == \"running\":\n",
    "            return self.wl[item[1]]\n",
    "        \n",
    "    def set_flux(self):\n",
    "        #rain falls uniformely\n",
    "        self.flux = [1 for i in range(self.n_nodes)]\n",
    "        self.flux_direction = [-1 for i in range(self.n_nodes)]\n",
    "        #go from highest to lowest, skip the boundary nodes:\n",
    "        #go through lakes too.\n",
    "        running = []\n",
    "        running = set(range(self.n_nodes)).difference(self.boundary_nodes)\n",
    "        for lake in self.lakes:\n",
    "            running.difference_update(lake[\"points\"])\n",
    "        order = []\n",
    "        for lake_index in range(len(self.lakes)):\n",
    "            order.append((\"lake\", lake_index))\n",
    "            \n",
    "        for node in running:\n",
    "            order.append((\"running\", node))\n",
    "        order = list(order)\n",
    "            \n",
    "        order.sort(key = self.ordering_wl, reverse = True) #highest to lowest\n",
    "        new_lake_made = False\n",
    "        for item in order:\n",
    "            #add the flux of current point to lowest neighbour, if neighbour is lower.\n",
    "            #else it is a lake => add its influx to the flux of the outflux node\n",
    "            if item[0]==\"running\":\n",
    "                lowest_neighbour = min(self.G.neighbors(item[1]), key = lambda j: self.h[j])\n",
    "                if self.h[lowest_neighbour]<self.h[item[1]]:\n",
    "                    self.flux[lowest_neighbour]+= self.flux[item[1]]\n",
    "                    self.flux_direction[item[1]] = lowest_neighbour\n",
    "                else:\n",
    "                    added = self.add_lake(item[1])\n",
    "                    if added:\n",
    "                        new_lake_made = True\n",
    "            else:\n",
    "                self.flux[self.lakes[item[1]][\"outflux_node\"]]+=self.lake_influx(item[1])\n",
    "        if new_lake_made:\n",
    "            print(\"New lakes made in set_flux.\")\n",
    "        return new_lake_made\n",
    "        \n",
    "    def add_lake(self, i):\n",
    "        \"\"\"adds lake and returns True if it did.\n",
    "        \"\"\"\n",
    "        in_lake = self.point_in_some_lake(i) \n",
    "        if not in_lake[0]:\n",
    "            self.lakes.append({\"points\":set([i]),\n",
    "                               \"water_level\": self.h[i],\n",
    "                               \"shore\":set([j for j in self.G.neighbors(i)]),\n",
    "                               \"influx\":self.flux[i],\n",
    "                               \"outflux_node\": -1})\n",
    "        return not in_lake[0]\n",
    "    \n",
    "    def point_in_some_lake(self,i):\n",
    "        for j, lake in enumerate(self.lakes):\n",
    "            if i in lake[\"points\"]:\n",
    "                return True, j\n",
    "        else:\n",
    "            return False, -1\n",
    "    \n",
    "    def fill_lakes(self):\n",
    "        #reset water levels first!\n",
    "        self.wl = deepcopy(self.h)\n",
    "        for i in range(len(self.lakes)):\n",
    "            self.lakes[i][\"water_level\"] = self.h[max(self.lakes[i][\"points\"], key = lambda i : self.h[i])]\n",
    "        if not self.dont_print: print(\"Reset of the water levels done.\")\n",
    "        self.lakes.sort(key = lambda lake:lake[\"water_level\"])\n",
    "        \n",
    "        i=0\n",
    "        while i<len(self.lakes):\n",
    "            if self.lakes[i][\"outflux_node\"]==-1:\n",
    "                #check boundary:\n",
    "                all_points_touching_lake = self.lakes[i][\"points\"] | self.lakes[i][\"shore\"]\n",
    "                if not all_points_touching_lake.isdisjoint(self.boundary_nodes): \n",
    "                    self.lakes[i][\"outflux_node\"] = all_points_touching_lake.intersection(self.boundary_nodes).pop()\n",
    "                    for j in self.lakes[i][\"points\"]:\n",
    "                        self.wl[j]= self.lakes[i][\"water_level\"]    \n",
    "                else:\n",
    "                    #get a set of points that are on the edge - shore\n",
    "                    shore = self.lakes[i][\"shore\"]\n",
    "                    #get the lowest among them\n",
    "                    lowest_node = min(shore, key = lambda node: self.h[node])\n",
    "                    lowest_node_in_lake = self.point_in_some_lake(lowest_node)\n",
    "\n",
    "                    #printout\n",
    "                    if not self.dont_print: \n",
    "                        print(\"i:\", i)\n",
    "                        print(\"lake:\")\n",
    "                        pprint(self.lakes[i])\n",
    "                        print(\"lowest_node:\", lowest_node, \" height:\", self.h[lowest_node])\n",
    "                        print(\"shore:\",shore)\n",
    "                        time.sleep(0.1)\n",
    "\n",
    "                    if lowest_node_in_lake[0]: \n",
    "                        if not self.wl[lowest_node]<self.lakes[i][\"water_level\"]:\n",
    "                            if not self.dont_print: \n",
    "                                print(\"the lakes should merge\")\n",
    "                            new_lake_index = self.merge_lakes(lowest_node_in_lake[1], i)\n",
    "                            if i>new_lake_index:\n",
    "                                i=new_lake_index\n",
    "                        else:\n",
    "                            if not self.dont_print: \n",
    "                                print(\"the lake spills over through that point. \")\n",
    "                            self.lakes[i][\"outflux_node\"] = lowest_node\n",
    "                            for j in self.lakes[i][\"points\"]:\n",
    "                                self.wl[j]= self.lakes[i][\"water_level\"]\n",
    "                    elif self.h[lowest_node]<self.lakes[i][\"water_level\"]:\n",
    "                        if not self.dont_print: \n",
    "                            print(\"the lake spills over through that point. \")\n",
    "                        self.lakes[i][\"outflux_node\"] = lowest_node\n",
    "                        for j in self.lakes[i][\"points\"]:\n",
    "                            self.wl[j]= self.lakes[i][\"water_level\"]\n",
    "                    else:\n",
    "                        if not self.dont_print: \n",
    "                            print(\"then lake water level goes up.\"+\n",
    "                                  \" point merges wiht the lake, and the lake level increases\")\n",
    "                        self.add_node_to_the_lake(lowest_node, i)\n",
    "\n",
    "                    if self.lakes[i][\"outflux_node\"] != -1:\n",
    "                        i+=1\n",
    "                    if not self.dont_print: print(\"Number of lakes: \", len(self.lakes))\n",
    "            else:\n",
    "                i+=1\n",
    "        for i in range(len(self.lakes)):\n",
    "            self.lakes[i][\"water_level\"] = self.h[max(self.lakes[i][\"points\"], key = lambda i : self.h[i])]\n",
    "        print(\"Lakes filled, fluxes are messed up.\")\n",
    "        \n",
    "    def merge_lakes(self,l1,l2):\n",
    "        if not self.dont_print: print(\"merging lakes {}, {}.\".format(l1,l2))\n",
    "        #delete 2 lakes\n",
    "        if l1==l2:\n",
    "            return None\n",
    "        elif l1<l2:\n",
    "            lake2 = self.lakes.pop(l2)\n",
    "            lake1 = self.lakes.pop(l1)\n",
    "        else:\n",
    "            lake1 = self.lakes.pop(l1)\n",
    "            lake2 = self.lakes.pop(l2)\n",
    "            \n",
    "        #make new lake\n",
    "        lake = {\"points\":lake1[\"points\"] | lake2[\"points\"], #or |\n",
    "                \"water_level\": max(lake1[\"water_level\"],lake2[\"water_level\"]),\n",
    "                \"shore\":(lake1[\"shore\"] | lake2[\"shore\"]),\n",
    "                \"influx\":lake1[\"influx\"] + lake2[\"influx\"],\n",
    "                \"outflux_node\":-1}\n",
    "        #put it where it should be.\n",
    "        lake[\"shore\"].difference_update(lake[\"points\"])\n",
    "        i = 0\n",
    "        if len(self.lakes)>0:\n",
    "            while (self.lakes[i%len(self.lakes)][\"water_level\"]<lake[\"water_level\"] \n",
    "                   and \n",
    "                   i<len(self.lakes)):\n",
    "                i+=1\n",
    "            self.lakes.insert(i, lake)\n",
    "        else:\n",
    "            self.lakes.insert(i,lake)\n",
    "        return i\n",
    "        \n",
    "        \n",
    "    def add_node_to_the_lake(self,node,l):\n",
    "        if not self.dont_print: print(\"adding node {} to the lake {}.\".format(node,l))\n",
    "        #adds the point to the lake, checks the \n",
    "        self.lakes[l][\"points\"].add(node)\n",
    "        self.lakes[l][\"water_level\"] = max(self.h[node], self.lakes[l][\"water_level\"])\n",
    "        \n",
    "        additional_shore=set()\n",
    "        for i in self.G.neighbors(node):\n",
    "            additional_shore.add(i)\n",
    "        \n",
    "        self.lakes[l][\"shore\"].update(additional_shore)\n",
    "        self.lakes[l][\"shore\"].difference_update(self.lakes[l][\"points\"])\n",
    "        \n",
    "        #move to the right point in the list!\n",
    "        i = 0\n",
    "        while (self.lakes[i%len(self.lakes)][\"water_level\"]<self.lakes[l][\"water_level\"] \n",
    "               and \n",
    "               i<len(self.lakes)):\n",
    "            i+=1\n",
    "        if i!=l:\n",
    "            lake = self.lakes.pop(l)\n",
    "            self.lakes.insert(i-1, lake)\n",
    "        if not self.dont_print: print(\"Finished adding node.\") \n",
    "    def set_flux_and_lakes(self):\n",
    "        self.set_flux()\n",
    "        self.fill_lakes()\n",
    "        self.set_flux()\n",
    "    def smooth_out(self):\n",
    "        for i in self.G.nodes():\n",
    "            s = self.h[i]\n",
    "            n = 1\n",
    "            for j in self.G.neighbors(i):\n",
    "                s +=self.h[j]\n",
    "                n +=1\n",
    "            avg = s/n\n",
    "            diff = avg-self.h[i]\n",
    "            self.h[i] += diff*0.1\n",
    "    def erode_accumulate(self, washed_away_coeff=0.1, max_overaccu = 0):\n",
    "        #rain falls uniformely\n",
    "        self.mud_passing = [0 for i in range(self.n_nodes)]\n",
    "        #go from highest to lowest, skip the boundary nodes:\n",
    "        #go through lakes too.\n",
    "        running = []\n",
    "        running = set(range(self.n_nodes)).difference(self.boundary_nodes)\n",
    "        for lake in self.lakes:\n",
    "            running.difference_update(lake[\"points\"])\n",
    "        order = []\n",
    "        for lake_index in range(len(self.lakes)):\n",
    "            order.append((\"lake\", lake_index))\n",
    "            \n",
    "        for node in running:\n",
    "            order.append((\"running\", node))\n",
    "        order = list(order)\n",
    "            \n",
    "        order.sort(key = self.ordering_wl, reverse = True) #highest to lowest\n",
    "        \n",
    "        max_flux = max(self.flux)\n",
    "        for item in order:\n",
    "            #add the flux of current point to lowest neighbour, if neighbour is lower.\n",
    "            #else it is a lake => add its influx to the flux of the outflux node\n",
    "            if item[0]==\"running\":\n",
    "                goesto = self.flux_direction[item[1]]\n",
    "                hdiff = self.h[item[0]]-self.h[goesto]\n",
    "                washed_away = washed_away_coeff*(hdiff)*self.flux[item[1]]/max_flux\n",
    "                self.h[i]-= washed_away\n",
    "                self.mud_passing[goesto]+=washed_away+self.mud_passing[item[1]]\n",
    "            else:\n",
    "                mud_in_lake = 0\n",
    "                n_points = 0\n",
    "                for i in self.lakes[item[1]][\"points\"]:\n",
    "                    mud_in_lake += self.mood_passing[i]\n",
    "                    n_points +=1\n",
    "                \n",
    "                for i in self.lakes[item[1]][\"points\"]:\n",
    "                    accumulated = min(mud_in_lake, self.wl[i]-self.h[i] + np.random.random()*max_overaccu)\n",
    "                    mud_in_lake -= accumulated\n",
    "                    self.h[i] += accumulated\n",
    "                self.mud_passing[self.lakes[item[1]][\"outflux_node\"]]+=mud_in_lake\n",
    "                \n",
    "        \n",
    "    \"\"\"def erode_accumulate_one(self,i, max_flux):\n",
    "        if not i in self.boundary_nodes:\n",
    "            if self.point_in_some_lake(i):\n",
    "                    hdiff = self.wl[i]-self.h[i]\n",
    "                    #if hdiff==0:print(\"its zero\")\n",
    "                    #else: print(\"not zero\")\n",
    "                    self.h[i]+= 0.1*(hdiff)\n",
    "            else:\n",
    "                h_diff = self.h[i] - self.h[self.flux_direction[i]]\n",
    "                self.h[i]-= self.flux[i]/max_flux*h_diff\n",
    "    def erode_accumulate(self):\n",
    "        max_flux = max(self.flux)\n",
    "        for i in self.G.nodes():\n",
    "            self.erode_accumulate_one(i,max_flux)\n",
    "    \"\"\""
   ]
  },
  {
   "cell_type": "code",
   "execution_count": null,
   "metadata": {
    "collapsed": true,
    "deletable": true,
    "editable": true
   },
   "outputs": [],
   "source": []
  },
  {
   "cell_type": "code",
   "execution_count": 3,
   "metadata": {
    "collapsed": false,
    "deletable": true,
    "editable": true
   },
   "outputs": [],
   "source": [
    "\n",
    "r = 10\n",
    "def area(x):\n",
    "    return np.sqrt(x[0]**2+x[1]**2) <r\n",
    "n_nodes = 1000\n",
    "h_sigma = 1\n",
    "sigma = 1,\n",
    "xlim=[-1,1]\n",
    "ylim=[-1,1]\n",
    "n_sec_max = 100\n",
    "multiplier=10\n",
    "dont_print = True\n",
    "depth_limit = 3"
   ]
  },
  {
   "cell_type": "code",
   "execution_count": 4,
   "metadata": {
    "collapsed": false,
    "deletable": true,
    "editable": true,
    "scrolled": true
   },
   "outputs": [
    {
     "name": "stdout",
     "output_type": "stream",
     "text": [
      "3968\n"
     ]
    },
    {
     "ename": "AttributeError",
     "evalue": "'numpy.float64' object has no attribute 'x'",
     "output_type": "error",
     "traceback": [
      "\u001b[1;31m---------------------------------------------------------------------------\u001b[0m",
      "\u001b[1;31mAttributeError\u001b[0m                            Traceback (most recent call last)",
      "\u001b[1;32m<ipython-input-4-017c82acef54>\u001b[0m in \u001b[0;36m<module>\u001b[1;34m()\u001b[0m\n\u001b[0;32m      5\u001b[0m                   \u001b[0mdont_print\u001b[0m \u001b[1;33m=\u001b[0m \u001b[0mdont_print\u001b[0m\u001b[1;33m,\u001b[0m\u001b[1;33m\u001b[0m\u001b[0m\n\u001b[0;32m      6\u001b[0m                   \u001b[0mdepth_limit\u001b[0m \u001b[1;33m=\u001b[0m \u001b[1;36m3\u001b[0m\u001b[1;33m,\u001b[0m\u001b[1;33m\u001b[0m\u001b[0m\n\u001b[1;32m----> 7\u001b[1;33m                   from_file = True, files=[\"points.list\", \"graph.adjlist\"])\n\u001b[0m",
      "\u001b[1;32m<ipython-input-2-7401c1863346>\u001b[0m in \u001b[0;36m__init__\u001b[1;34m(self, n_nodes, area, h_sigma, sigma, h_picture, w_picture, xlim, ylim, n_sec_max, multiplier, dont_print, depth_limit, from_file, files)\u001b[0m\n\u001b[0;32m     24\u001b[0m             \u001b[0mself\u001b[0m\u001b[1;33m.\u001b[0m\u001b[0mquadruple_structure\u001b[0m\u001b[1;33m(\u001b[0m\u001b[1;33m)\u001b[0m\u001b[1;33m\u001b[0m\u001b[0m\n\u001b[0;32m     25\u001b[0m             \u001b[0mprint\u001b[0m\u001b[1;33m(\u001b[0m\u001b[0mself\u001b[0m\u001b[1;33m.\u001b[0m\u001b[0mn_nodes\u001b[0m\u001b[1;33m)\u001b[0m\u001b[1;33m\u001b[0m\u001b[0m\n\u001b[1;32m---> 26\u001b[1;33m             \u001b[0mself\u001b[0m\u001b[1;33m.\u001b[0m\u001b[0mrescale\u001b[0m\u001b[1;33m(\u001b[0m\u001b[0mxlim\u001b[0m\u001b[1;33m,\u001b[0m \u001b[0mylim\u001b[0m\u001b[1;33m,\u001b[0m \u001b[1;33m[\u001b[0m\u001b[1;33m-\u001b[0m\u001b[1;36m1\u001b[0m\u001b[1;33m,\u001b[0m\u001b[1;36m1\u001b[0m\u001b[1;33m]\u001b[0m\u001b[1;33m)\u001b[0m\u001b[1;33m\u001b[0m\u001b[0m\n\u001b[0m\u001b[0;32m     27\u001b[0m         \u001b[1;32melse\u001b[0m\u001b[1;33m:\u001b[0m\u001b[1;33m\u001b[0m\u001b[0m\n\u001b[0;32m     28\u001b[0m             \u001b[0mself\u001b[0m\u001b[1;33m.\u001b[0m\u001b[0mmake_points\u001b[0m\u001b[1;33m(\u001b[0m\u001b[1;33m)\u001b[0m\u001b[1;33m\u001b[0m\u001b[0m\n",
      "\u001b[1;32mC:\\Users\\Luka\\Documents\\Knjige\\D&D\\Map generator\\structure.py\u001b[0m in \u001b[0;36mrescale\u001b[1;34m(self, new_xlim, new_ylim, new_hlim)\u001b[0m\n\u001b[0;32m    470\u001b[0m             \u001b[0mold_hlim\u001b[0m \u001b[1;33m=\u001b[0m \u001b[1;33m[\u001b[0m\u001b[1;36m0\u001b[0m\u001b[1;33m,\u001b[0m\u001b[1;36m0\u001b[0m\u001b[1;33m]\u001b[0m\u001b[1;33m\u001b[0m\u001b[0m\n\u001b[0;32m    471\u001b[0m         \u001b[1;32mfor\u001b[0m \u001b[0mi\u001b[0m \u001b[1;32min\u001b[0m \u001b[0mself\u001b[0m\u001b[1;33m.\u001b[0m\u001b[0mG\u001b[0m\u001b[1;33m.\u001b[0m\u001b[0mnodes\u001b[0m\u001b[1;33m(\u001b[0m\u001b[1;33m)\u001b[0m\u001b[1;33m:\u001b[0m\u001b[1;33m\u001b[0m\u001b[0m\n\u001b[1;32m--> 472\u001b[1;33m             \u001b[0mself\u001b[0m\u001b[1;33m.\u001b[0m\u001b[0mrescale_one\u001b[0m\u001b[1;33m(\u001b[0m\u001b[0mi\u001b[0m\u001b[1;33m,\u001b[0m \u001b[0mold_xlim\u001b[0m\u001b[1;33m,\u001b[0m \u001b[0mold_ylim\u001b[0m\u001b[1;33m,\u001b[0m \u001b[0mold_hlim\u001b[0m\u001b[1;33m,\u001b[0m \u001b[0mnew_xlim\u001b[0m\u001b[1;33m,\u001b[0m \u001b[0mnew_ylim\u001b[0m\u001b[1;33m,\u001b[0m \u001b[0mnew_hlim\u001b[0m\u001b[1;33m)\u001b[0m\u001b[1;33m\u001b[0m\u001b[0m\n\u001b[0m\u001b[0;32m    473\u001b[0m \u001b[1;33m\u001b[0m\u001b[0m\n\u001b[0;32m    474\u001b[0m         \u001b[0mself\u001b[0m\u001b[1;33m.\u001b[0m\u001b[0mxlim\u001b[0m \u001b[1;33m=\u001b[0m \u001b[0mnew_xlim\u001b[0m\u001b[1;33m\u001b[0m\u001b[0m\n",
      "\u001b[1;32mC:\\Users\\Luka\\Documents\\Knjige\\D&D\\Map generator\\structure.py\u001b[0m in \u001b[0;36mrescale_one\u001b[1;34m(self, i, old_xlim, old_ylim, old_hlim, new_xlim, new_ylim, new_hlim)\u001b[0m\n\u001b[0;32m    459\u001b[0m             \u001b[0mself\u001b[0m\u001b[1;33m.\u001b[0m\u001b[0mh\u001b[0m\u001b[1;33m[\u001b[0m\u001b[0mi\u001b[0m\u001b[1;33m]\u001b[0m \u001b[1;33m=\u001b[0m \u001b[0mnew_hlim\u001b[0m\u001b[1;33m[\u001b[0m\u001b[1;36m0\u001b[0m\u001b[1;33m]\u001b[0m\u001b[1;33m+\u001b[0m\u001b[1;33m(\u001b[0m\u001b[0mself\u001b[0m\u001b[1;33m.\u001b[0m\u001b[0mh\u001b[0m\u001b[1;33m[\u001b[0m\u001b[0mi\u001b[0m\u001b[1;33m]\u001b[0m\u001b[1;33m-\u001b[0m\u001b[0mold_hlim\u001b[0m\u001b[1;33m[\u001b[0m\u001b[1;36m0\u001b[0m\u001b[1;33m]\u001b[0m\u001b[1;33m)\u001b[0m\u001b[1;33m/\u001b[0m\u001b[1;33m(\u001b[0m\u001b[0mold_hlim\u001b[0m\u001b[1;33m[\u001b[0m\u001b[1;36m1\u001b[0m\u001b[1;33m]\u001b[0m\u001b[1;33m-\u001b[0m \u001b[0mold_hlim\u001b[0m\u001b[1;33m[\u001b[0m\u001b[1;36m0\u001b[0m\u001b[1;33m]\u001b[0m\u001b[1;33m)\u001b[0m\u001b[1;33m*\u001b[0m\u001b[1;33m(\u001b[0m\u001b[0mnew_hlim\u001b[0m\u001b[1;33m[\u001b[0m\u001b[1;36m1\u001b[0m\u001b[1;33m]\u001b[0m\u001b[1;33m-\u001b[0m \u001b[0mnew_hlim\u001b[0m\u001b[1;33m[\u001b[0m\u001b[1;36m0\u001b[0m\u001b[1;33m]\u001b[0m\u001b[1;33m)\u001b[0m\u001b[1;33m\u001b[0m\u001b[0m\n\u001b[0;32m    460\u001b[0m             \u001b[0mself\u001b[0m\u001b[1;33m.\u001b[0m\u001b[0mwl\u001b[0m\u001b[1;33m[\u001b[0m\u001b[0mi\u001b[0m\u001b[1;33m]\u001b[0m \u001b[1;33m=\u001b[0m \u001b[0mnew_hlim\u001b[0m\u001b[1;33m[\u001b[0m\u001b[1;36m0\u001b[0m\u001b[1;33m]\u001b[0m\u001b[1;33m+\u001b[0m\u001b[1;33m(\u001b[0m\u001b[0mself\u001b[0m\u001b[1;33m.\u001b[0m\u001b[0mwl\u001b[0m\u001b[1;33m[\u001b[0m\u001b[0mi\u001b[0m\u001b[1;33m]\u001b[0m\u001b[1;33m-\u001b[0m\u001b[0mold_hlim\u001b[0m\u001b[1;33m[\u001b[0m\u001b[1;36m0\u001b[0m\u001b[1;33m]\u001b[0m\u001b[1;33m)\u001b[0m\u001b[1;33m/\u001b[0m\u001b[1;33m(\u001b[0m\u001b[0mold_hlim\u001b[0m\u001b[1;33m[\u001b[0m\u001b[1;36m1\u001b[0m\u001b[1;33m]\u001b[0m\u001b[1;33m-\u001b[0m \u001b[0mold_hlim\u001b[0m\u001b[1;33m[\u001b[0m\u001b[1;36m0\u001b[0m\u001b[1;33m]\u001b[0m\u001b[1;33m)\u001b[0m\u001b[1;33m*\u001b[0m\u001b[1;33m(\u001b[0m\u001b[0mnew_hlim\u001b[0m\u001b[1;33m[\u001b[0m\u001b[1;36m1\u001b[0m\u001b[1;33m]\u001b[0m\u001b[1;33m-\u001b[0m \u001b[0mnew_hlim\u001b[0m\u001b[1;33m[\u001b[0m\u001b[1;36m0\u001b[0m\u001b[1;33m]\u001b[0m\u001b[1;33m)\u001b[0m\u001b[1;33m\u001b[0m\u001b[0m\n\u001b[1;32m--> 461\u001b[1;33m         \u001b[0mself\u001b[0m\u001b[1;33m.\u001b[0m\u001b[0mp\u001b[0m\u001b[1;33m[\u001b[0m\u001b[0mi\u001b[0m\u001b[1;33m]\u001b[0m\u001b[1;33m.\u001b[0m\u001b[0mx\u001b[0m \u001b[1;33m=\u001b[0m \u001b[0mnew_xlim\u001b[0m\u001b[1;33m[\u001b[0m\u001b[1;36m0\u001b[0m\u001b[1;33m]\u001b[0m\u001b[1;33m+\u001b[0m\u001b[1;33m(\u001b[0m\u001b[0mself\u001b[0m\u001b[1;33m.\u001b[0m\u001b[0mp\u001b[0m\u001b[1;33m[\u001b[0m\u001b[0mi\u001b[0m\u001b[1;33m]\u001b[0m\u001b[1;33m.\u001b[0m\u001b[0mx\u001b[0m\u001b[1;33m-\u001b[0m\u001b[0mold_xlim\u001b[0m\u001b[1;33m[\u001b[0m\u001b[1;36m0\u001b[0m\u001b[1;33m]\u001b[0m\u001b[1;33m)\u001b[0m\u001b[1;33m/\u001b[0m\u001b[1;33m(\u001b[0m\u001b[0mold_xlim\u001b[0m\u001b[1;33m[\u001b[0m\u001b[1;36m1\u001b[0m\u001b[1;33m]\u001b[0m\u001b[1;33m-\u001b[0m \u001b[0mold_xlim\u001b[0m\u001b[1;33m[\u001b[0m\u001b[1;36m0\u001b[0m\u001b[1;33m]\u001b[0m\u001b[1;33m)\u001b[0m\u001b[1;33m*\u001b[0m\u001b[1;33m(\u001b[0m\u001b[0mnew_xlim\u001b[0m\u001b[1;33m[\u001b[0m\u001b[1;36m1\u001b[0m\u001b[1;33m]\u001b[0m\u001b[1;33m-\u001b[0m \u001b[0mnew_xlim\u001b[0m\u001b[1;33m[\u001b[0m\u001b[1;36m0\u001b[0m\u001b[1;33m]\u001b[0m\u001b[1;33m)\u001b[0m\u001b[1;33m\u001b[0m\u001b[0m\n\u001b[0m\u001b[0;32m    462\u001b[0m         \u001b[0mself\u001b[0m\u001b[1;33m.\u001b[0m\u001b[0mp\u001b[0m\u001b[1;33m[\u001b[0m\u001b[0mi\u001b[0m\u001b[1;33m]\u001b[0m\u001b[1;33m.\u001b[0m\u001b[0my\u001b[0m \u001b[1;33m=\u001b[0m \u001b[0mnew_ylim\u001b[0m\u001b[1;33m[\u001b[0m\u001b[1;36m0\u001b[0m\u001b[1;33m]\u001b[0m\u001b[1;33m+\u001b[0m\u001b[1;33m(\u001b[0m\u001b[0mself\u001b[0m\u001b[1;33m.\u001b[0m\u001b[0mp\u001b[0m\u001b[1;33m[\u001b[0m\u001b[0mi\u001b[0m\u001b[1;33m]\u001b[0m\u001b[1;33m.\u001b[0m\u001b[0my\u001b[0m\u001b[1;33m-\u001b[0m\u001b[0mold_ylim\u001b[0m\u001b[1;33m[\u001b[0m\u001b[1;36m0\u001b[0m\u001b[1;33m]\u001b[0m\u001b[1;33m)\u001b[0m\u001b[1;33m/\u001b[0m\u001b[1;33m(\u001b[0m\u001b[0mold_ylim\u001b[0m\u001b[1;33m[\u001b[0m\u001b[1;36m1\u001b[0m\u001b[1;33m]\u001b[0m\u001b[1;33m-\u001b[0m \u001b[0mold_ylim\u001b[0m\u001b[1;33m[\u001b[0m\u001b[1;36m0\u001b[0m\u001b[1;33m]\u001b[0m\u001b[1;33m)\u001b[0m\u001b[1;33m*\u001b[0m\u001b[1;33m(\u001b[0m\u001b[0mnew_ylim\u001b[0m\u001b[1;33m[\u001b[0m\u001b[1;36m1\u001b[0m\u001b[1;33m]\u001b[0m\u001b[1;33m-\u001b[0m \u001b[0mnew_ylim\u001b[0m\u001b[1;33m[\u001b[0m\u001b[1;36m0\u001b[0m\u001b[1;33m]\u001b[0m\u001b[1;33m)\u001b[0m\u001b[1;33m\u001b[0m\u001b[0m\n\u001b[0;32m    463\u001b[0m \u001b[1;33m\u001b[0m\u001b[0m\n",
      "\u001b[1;31mAttributeError\u001b[0m: 'numpy.float64' object has no attribute 'x'"
     ]
    }
   ],
   "source": [
    "m = map_generator(n_nodes, area, h_sigma = h_sigma, \n",
    "                  sigma = sigma,\n",
    "                  xlim=xlim, ylim=ylim,  \n",
    "                  n_sec_max = n_sec_max, multiplier=multiplier, \n",
    "                  dont_print = dont_print,\n",
    "                  depth_limit = 3, \n",
    "                  from_file = True, files=[\"points.list\", \"graph.adjlist\"])\n"
   ]
  },
  {
   "cell_type": "code",
   "execution_count": null,
   "metadata": {
    "collapsed": false
   },
   "outputs": [],
   "source": [
    "%matplotlib notebook\n",
    "m.draw_graph()"
   ]
  },
  {
   "cell_type": "code",
   "execution_count": null,
   "metadata": {
    "collapsed": false,
    "deletable": true,
    "editable": true
   },
   "outputs": [],
   "source": [
    "m.randomize()\n",
    "m.grow(500)\n",
    "m.smooth_out()\n",
    "m.set_sea(new_hlim[0])"
   ]
  },
  {
   "cell_type": "code",
   "execution_count": null,
   "metadata": {
    "collapsed": false
   },
   "outputs": [],
   "source": [
    "new_xlim=[-10000,10000]\n",
    "new_ylim=[-10000,10000]\n",
    "new_hlim=[-1000,1000]\n",
    "m.rescale(new_xlim, new_ylim, new_hlim)"
   ]
  },
  {
   "cell_type": "code",
   "execution_count": null,
   "metadata": {
    "collapsed": true
   },
   "outputs": [],
   "source": []
  },
  {
   "cell_type": "code",
   "execution_count": null,
   "metadata": {
    "collapsed": false,
    "deletable": true,
    "editable": true
   },
   "outputs": [],
   "source": [
    "m.erode_accumulate()"
   ]
  },
  {
   "cell_type": "code",
   "execution_count": null,
   "metadata": {
    "collapsed": true
   },
   "outputs": [],
   "source": []
  },
  {
   "cell_type": "code",
   "execution_count": null,
   "metadata": {
    "collapsed": false,
    "deletable": true,
    "editable": true,
    "scrolled": false
   },
   "outputs": [],
   "source": [
    "%matplotlib notebook\n",
    "\n",
    "\n",
    "m.h_pic = 100\n",
    "m.w_pic = 100\n",
    "fig = plt.figure(figsize = (8,8))\n",
    "ax = fig.add_subplot(111, projection='3d')\n",
    "\n",
    "#m.draw_model(ax = ax,  rstride=1, cstride=1, cmap=cm.terrain, vmin = -1, vmax = 4)\n",
    "m.draw_model_triangles(ax = ax, cmap=cm.terrain, vmin = new_hlim[0], vmax = new_hlim[1])\n"
   ]
  },
  {
   "cell_type": "code",
   "execution_count": null,
   "metadata": {
    "collapsed": false,
    "deletable": true,
    "editable": true,
    "scrolled": true
   },
   "outputs": [],
   "source": [
    "\"\"\"for i in range(10):\n",
    "    m.set_flux_and_lakes()\n",
    "    m.erode_accumulate()\"\"\"\n",
    "#m.erode_accumulate()\n",
    "m.grow(500)\n",
    "m.set_sea(bottom = new_hlim[0])\n",
    "plt.hist(m.h)\n",
    "plt.show()"
   ]
  },
  {
   "cell_type": "code",
   "execution_count": null,
   "metadata": {
    "collapsed": false,
    "deletable": true,
    "editable": true
   },
   "outputs": [],
   "source": [
    "\"\"\"for i in range(10):\n",
    "    m.set_flux_and_lakes()\n",
    "    m.erode_accumulate()\"\"\"\n",
    "m.erode_accumulate()\n",
    "m.set_sea()\n",
    "plt.hist(m.h)\n",
    "plt.show()"
   ]
  },
  {
   "cell_type": "code",
   "execution_count": null,
   "metadata": {
    "collapsed": false,
    "deletable": true,
    "editable": true,
    "scrolled": true
   },
   "outputs": [],
   "source": [
    "fig = plt.figure(figsize = (8,8))\n",
    "ax = fig.add_subplot(111, projection='3d')\n",
    "#m.draw_model(ax = ax,  rstride=1, cstride=1, cmap=cm.terrain, vmin = -1, vmax = 4)\n",
    "m.draw_model_triangles(ax = ax, cmap=cm.terrain,h=False, vmin = -1, vmax = 5)"
   ]
  },
  {
   "cell_type": "code",
   "execution_count": null,
   "metadata": {
    "collapsed": false,
    "deletable": true,
    "editable": true,
    "scrolled": true
   },
   "outputs": [],
   "source": []
  },
  {
   "cell_type": "code",
   "execution_count": null,
   "metadata": {
    "collapsed": false,
    "deletable": true,
    "editable": true
   },
   "outputs": [],
   "source": []
  },
  {
   "cell_type": "code",
   "execution_count": null,
   "metadata": {
    "collapsed": false,
    "deletable": true,
    "editable": true
   },
   "outputs": [],
   "source": []
  },
  {
   "cell_type": "code",
   "execution_count": null,
   "metadata": {
    "collapsed": false,
    "deletable": true,
    "editable": true
   },
   "outputs": [],
   "source": [
    "new_lake_made = m.set_flux()\n",
    "print(\"Number of lakes:\",len(m.lakes))\n",
    "new_lake_made"
   ]
  },
  {
   "cell_type": "code",
   "execution_count": null,
   "metadata": {
    "collapsed": false,
    "deletable": true,
    "editable": true,
    "scrolled": true
   },
   "outputs": [],
   "source": [
    "m.dont_print = True\n",
    "m.fill_lakes()\n",
    "print(\"Number of lakes:\",len(m.lakes))"
   ]
  },
  {
   "cell_type": "code",
   "execution_count": null,
   "metadata": {
    "collapsed": false,
    "deletable": true,
    "editable": true
   },
   "outputs": [],
   "source": [
    "len(m.lakes)"
   ]
  },
  {
   "cell_type": "code",
   "execution_count": null,
   "metadata": {
    "collapsed": false,
    "deletable": true,
    "editable": true
   },
   "outputs": [],
   "source": [
    "#19 in m.boundary_nodes\n",
    "#m.point_in_some_lake(19)"
   ]
  },
  {
   "cell_type": "code",
   "execution_count": null,
   "metadata": {
    "collapsed": false,
    "deletable": true,
    "editable": true,
    "scrolled": true
   },
   "outputs": [],
   "source": [
    "new_lake_made = m.set_flux()\n",
    "print(\"New lake made:\", new_lake_made)\n",
    "print(\"Number of lakes:\",len(m.lakes))"
   ]
  },
  {
   "cell_type": "code",
   "execution_count": null,
   "metadata": {
    "collapsed": false,
    "deletable": true,
    "editable": true
   },
   "outputs": [],
   "source": []
  },
  {
   "cell_type": "code",
   "execution_count": null,
   "metadata": {
    "collapsed": false,
    "deletable": true,
    "editable": true
   },
   "outputs": [],
   "source": [
    "set_flux_and_lakes(m)"
   ]
  },
  {
   "cell_type": "code",
   "execution_count": null,
   "metadata": {
    "collapsed": false,
    "deletable": true,
    "editable": true
   },
   "outputs": [],
   "source": []
  },
  {
   "cell_type": "code",
   "execution_count": null,
   "metadata": {
    "collapsed": false,
    "deletable": true,
    "editable": true
   },
   "outputs": [],
   "source": [
    "erode(m)"
   ]
  },
  {
   "cell_type": "code",
   "execution_count": null,
   "metadata": {
    "collapsed": false,
    "deletable": true,
    "editable": true,
    "scrolled": true
   },
   "outputs": [],
   "source": [
    "%matplotlib notebook\n",
    "m.dont_print = True\n",
    "fig, ax = plt.subplots()\n",
    "m.draw_map_h()\n",
    "\n",
    "ps = []\n",
    "for lake in m.lakes:\n",
    "    for p in lake[\"points\"]:\n",
    "        ps.append(p)\n",
    "print(ps)\n",
    "x,y = [],[]\n",
    "for p in ps:\n",
    "    pixelx = int((m.p[p].x-m.xlim[0])/(m.xlim[1]-m.xlim[0])*m.w_pic)\n",
    "    pixely = int((m.p[p].y-m.ylim[0])/(m.ylim[1]-m.ylim[0])*m.h_pic)\n",
    "    x.append(pixelx)\n",
    "    y.append(pixely)\n",
    "x2,y2 = [],[]\n",
    "for p in range(m.n_nodes):\n",
    "    pixelx = int((m.p[p].x-m.xlim[0])/(m.xlim[1]-m.xlim[0])*m.w_pic)\n",
    "    pixely = int((m.p[p].y-m.ylim[0])/(m.ylim[1]-m.ylim[0])*m.h_pic)\n",
    "    x2.append(pixelx)\n",
    "    y2.append(pixely)\n",
    "\n",
    "\n",
    "ax.scatter(x2,y2,c=\"brown\")\n",
    "ax.scatter(x,y,c=\"blue\", s = 100)\n",
    "#ax.set_xlim((25,40))\n",
    "#ax.set_ylim((10,30))"
   ]
  },
  {
   "cell_type": "code",
   "execution_count": null,
   "metadata": {
    "collapsed": false,
    "deletable": true,
    "editable": true
   },
   "outputs": [],
   "source": [
    "%matplotlib notebook\n",
    "m.dont_print = True\n",
    "fig, ax = plt.subplots()\n",
    "m.draw_map_h()\n",
    "\n",
    "\"\"\"ps = []\n",
    "for lake in m.lakes:\n",
    "    for p in lake[\"points\"]:\n",
    "        ps.append(p)\n",
    "print(ps)\n",
    "x,y = [],[]\n",
    "for p in ps:\n",
    "    pixelx = int((m.p[p].x-m.xlim[0])/(m.xlim[1]-m.xlim[0])*m.w_pic)\n",
    "    pixely = int((m.p[p].y-m.ylim[0])/(m.ylim[1]-m.ylim[0])*m.h_pic)\n",
    "    x.append(pixelx)\n",
    "    y.append(pixely)\n",
    "x2,y2 = [],[]\n",
    "f = []\n",
    "for p in range(m.n_nodes):\n",
    "    pixelx = int((m.p[p].x-m.xlim[0])/(m.xlim[1]-m.xlim[0])*m.w_pic)\n",
    "    pixely = int((m.p[p].y-m.ylim[0])/(m.ylim[1]-m.ylim[0])*m.h_pic)\n",
    "    x2.append(pixelx)\n",
    "    y2.append(pixely)\n",
    "    f.append(m.flux[p]*1)\n",
    "\n",
    "\n",
    "ax.scatter(x2,y2,c=\"brown\", s = f)\n",
    "ax.scatter(x,y,c=\"blue\", s = 100)\"\"\"\n",
    "#ax.set_xlim((25,40))\n",
    "#ax.set_ylim((10,30))"
   ]
  },
  {
   "cell_type": "code",
   "execution_count": null,
   "metadata": {
    "collapsed": false,
    "deletable": true,
    "editable": true
   },
   "outputs": [],
   "source": [
    "m.draw_graph()"
   ]
  },
  {
   "cell_type": "code",
   "execution_count": null,
   "metadata": {
    "collapsed": true,
    "deletable": true,
    "editable": true
   },
   "outputs": [],
   "source": []
  }
 ],
 "metadata": {
  "kernelspec": {
   "display_name": "Python [default]",
   "language": "python",
   "name": "python3"
  },
  "language_info": {
   "codemirror_mode": {
    "name": "ipython",
    "version": 3
   },
   "file_extension": ".py",
   "mimetype": "text/x-python",
   "name": "python",
   "nbconvert_exporter": "python",
   "pygments_lexer": "ipython3",
   "version": "3.5.3"
  }
 },
 "nbformat": 4,
 "nbformat_minor": 0
}
